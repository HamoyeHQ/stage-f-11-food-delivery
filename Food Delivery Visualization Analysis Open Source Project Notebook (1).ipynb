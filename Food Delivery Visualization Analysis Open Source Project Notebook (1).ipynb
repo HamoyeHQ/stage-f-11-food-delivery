{
 "cells": [
  {
   "cell_type": "markdown",
   "metadata": {},
   "source": [
    "# Food Delivery Visualization Analysis Open Source Project Notebook"
   ]
  },
  {
   "cell_type": "code",
   "execution_count": 1,
   "metadata": {},
   "outputs": [],
   "source": [
    "# import necessary libraries\n",
    "import pandas as pd\n",
    "import numpy as np\n",
    "import seaborn as sns\n",
    "import matplotlib.pyplot as plt\n",
    "from collections import Counter\n",
    "\n",
    "import pandas_profiling as pp\n",
    "import matplotlib as plt\n",
    "%matplotlib inline"
   ]
  },
  {
   "cell_type": "raw",
   "metadata": {},
   "source": [
    "The dataset includes the Train Data and Test Data in seperate Excel Files.\n",
    "For Visualization purposes, Its ideal to use the training set to analyse existing patterns."
   ]
  },
  {
   "cell_type": "code",
   "execution_count": 2,
   "metadata": {
    "scrolled": true
   },
   "outputs": [
    {
     "name": "stdout",
     "output_type": "stream",
     "text": [
      "(11094, 9) (11094, 9) (2774, 8)\n"
     ]
    },
    {
     "data": {
      "text/html": [
       "<div>\n",
       "<style scoped>\n",
       "    .dataframe tbody tr th:only-of-type {\n",
       "        vertical-align: middle;\n",
       "    }\n",
       "\n",
       "    .dataframe tbody tr th {\n",
       "        vertical-align: top;\n",
       "    }\n",
       "\n",
       "    .dataframe thead th {\n",
       "        text-align: right;\n",
       "    }\n",
       "</style>\n",
       "<table border=\"1\" class=\"dataframe\">\n",
       "  <thead>\n",
       "    <tr style=\"text-align: right;\">\n",
       "      <th></th>\n",
       "      <th>Restaurant</th>\n",
       "      <th>Location</th>\n",
       "      <th>Cuisines</th>\n",
       "      <th>Average_Cost</th>\n",
       "      <th>Minimum_Order</th>\n",
       "      <th>Rating</th>\n",
       "      <th>Votes</th>\n",
       "      <th>Reviews</th>\n",
       "      <th>Delivery_Time</th>\n",
       "    </tr>\n",
       "  </thead>\n",
       "  <tbody>\n",
       "    <tr>\n",
       "      <th>0</th>\n",
       "      <td>ID_6321</td>\n",
       "      <td>FTI College, Law College Road, Pune</td>\n",
       "      <td>Fast Food, Rolls, Burger, Salad, Wraps</td>\n",
       "      <td>₹200</td>\n",
       "      <td>₹50</td>\n",
       "      <td>3.5</td>\n",
       "      <td>12</td>\n",
       "      <td>4</td>\n",
       "      <td>30 minutes</td>\n",
       "    </tr>\n",
       "    <tr>\n",
       "      <th>1</th>\n",
       "      <td>ID_2882</td>\n",
       "      <td>Sector 3, Marathalli</td>\n",
       "      <td>Ice Cream, Desserts</td>\n",
       "      <td>₹100</td>\n",
       "      <td>₹50</td>\n",
       "      <td>3.5</td>\n",
       "      <td>11</td>\n",
       "      <td>4</td>\n",
       "      <td>30 minutes</td>\n",
       "    </tr>\n",
       "    <tr>\n",
       "      <th>2</th>\n",
       "      <td>ID_1595</td>\n",
       "      <td>Mumbai Central</td>\n",
       "      <td>Italian, Street Food, Fast Food</td>\n",
       "      <td>₹150</td>\n",
       "      <td>₹50</td>\n",
       "      <td>3.6</td>\n",
       "      <td>99</td>\n",
       "      <td>30</td>\n",
       "      <td>65 minutes</td>\n",
       "    </tr>\n",
       "    <tr>\n",
       "      <th>3</th>\n",
       "      <td>ID_5929</td>\n",
       "      <td>Sector 1, Noida</td>\n",
       "      <td>Mughlai, North Indian, Chinese</td>\n",
       "      <td>₹250</td>\n",
       "      <td>₹99</td>\n",
       "      <td>3.7</td>\n",
       "      <td>176</td>\n",
       "      <td>95</td>\n",
       "      <td>30 minutes</td>\n",
       "    </tr>\n",
       "    <tr>\n",
       "      <th>4</th>\n",
       "      <td>ID_6123</td>\n",
       "      <td>Rmz Centennial, I Gate, Whitefield</td>\n",
       "      <td>Cafe, Beverages</td>\n",
       "      <td>₹200</td>\n",
       "      <td>₹99</td>\n",
       "      <td>3.2</td>\n",
       "      <td>521</td>\n",
       "      <td>235</td>\n",
       "      <td>65 minutes</td>\n",
       "    </tr>\n",
       "  </tbody>\n",
       "</table>\n",
       "</div>"
      ],
      "text/plain": [
       "  Restaurant                             Location  \\\n",
       "0    ID_6321  FTI College, Law College Road, Pune   \n",
       "1    ID_2882                 Sector 3, Marathalli   \n",
       "2    ID_1595                       Mumbai Central   \n",
       "3    ID_5929                      Sector 1, Noida   \n",
       "4    ID_6123   Rmz Centennial, I Gate, Whitefield   \n",
       "\n",
       "                                 Cuisines Average_Cost Minimum_Order Rating  \\\n",
       "0  Fast Food, Rolls, Burger, Salad, Wraps         ₹200           ₹50    3.5   \n",
       "1                     Ice Cream, Desserts         ₹100           ₹50    3.5   \n",
       "2         Italian, Street Food, Fast Food         ₹150           ₹50    3.6   \n",
       "3          Mughlai, North Indian, Chinese         ₹250           ₹99    3.7   \n",
       "4                         Cafe, Beverages         ₹200           ₹99    3.2   \n",
       "\n",
       "  Votes Reviews Delivery_Time  \n",
       "0    12       4    30 minutes  \n",
       "1    11       4    30 minutes  \n",
       "2    99      30    65 minutes  \n",
       "3   176      95    30 minutes  \n",
       "4   521     235    65 minutes  "
      ]
     },
     "execution_count": 2,
     "metadata": {},
     "output_type": "execute_result"
    }
   ],
   "source": [
    "# Load datasets\n",
    "train = pd.read_excel('Data_Train.xlsx')\n",
    "test = pd.read_excel('Data_Test.xlsx')\n",
    "\n",
    "data = train.copy()\n",
    "\n",
    "# preview dataset and its shape\n",
    "print(data.shape, train.shape, test.shape)\n",
    "data.head()"
   ]
  },
  {
   "cell_type": "raw",
   "metadata": {},
   "source": [
    "Size of training set: 11,094 records\n",
    "Size of test set: 2,774 records\n",
    "\n",
    "FEATURES (Counts = 9):\n",
    "\n",
    "Restaurant: A unique ID that represents a restaurant.\n",
    "Location: The location of the restaurant.\n",
    "Cuisines: The cuisines offered by the restaurant.\n",
    "Average_Cost: The average cost for one person/order.\n",
    "Minimum_Order: The minimum order amount.\n",
    "Rating: Customer rating for the restaurant.\n",
    "Votes: The total number of customer votes for the restaurant.\n",
    "Reviews: The number of customer reviews for the restaurant.\n",
    "Delivery_Time: The order delivery time of the restaurant. (Target Classes) "
   ]
  },
  {
   "cell_type": "code",
   "execution_count": 3,
   "metadata": {
    "scrolled": true
   },
   "outputs": [
    {
     "data": {
      "text/plain": [
       "Restaurant       7480\n",
       "Location           35\n",
       "Cuisines         2179\n",
       "Average_Cost       26\n",
       "Minimum_Order      18\n",
       "Rating             33\n",
       "Votes            1103\n",
       "Reviews           761\n",
       "Delivery_Time       7\n",
       "dtype: int64"
      ]
     },
     "execution_count": 3,
     "metadata": {},
     "output_type": "execute_result"
    }
   ],
   "source": [
    "# check for unique values in each column\n",
    "data.nunique()"
   ]
  },
  {
   "cell_type": "code",
   "execution_count": 4,
   "metadata": {
    "scrolled": true
   },
   "outputs": [
    {
     "name": "stdout",
     "output_type": "stream",
     "text": [
      "<class 'pandas.core.frame.DataFrame'>\n",
      "RangeIndex: 11094 entries, 0 to 11093\n",
      "Data columns (total 9 columns):\n",
      " #   Column         Non-Null Count  Dtype \n",
      "---  ------         --------------  ----- \n",
      " 0   Restaurant     11094 non-null  object\n",
      " 1   Location       11094 non-null  object\n",
      " 2   Cuisines       11094 non-null  object\n",
      " 3   Average_Cost   11094 non-null  object\n",
      " 4   Minimum_Order  11094 non-null  object\n",
      " 5   Rating         11094 non-null  object\n",
      " 6   Votes          11094 non-null  object\n",
      " 7   Reviews        11094 non-null  object\n",
      " 8   Delivery_Time  11094 non-null  object\n",
      "dtypes: object(9)\n",
      "memory usage: 780.2+ KB\n"
     ]
    }
   ],
   "source": [
    "# Preview dataset info\n",
    "data.info()"
   ]
  },
  {
   "cell_type": "markdown",
   "metadata": {},
   "source": [
    "## Data VIsualization"
   ]
  },
  {
   "cell_type": "markdown",
   "metadata": {},
   "source": [
    "Objectives:\n",
    "1. Delivery_Time (Target Variable): Determine Delivery Time of Restaurants (in minutes) with the Highest Frequency\n",
    "\n",
    "2. Location (Feature): Determine the Top 5 Cities with the Highest Delivery Activities.\n",
    "\n",
    "3. Cuisines (Feature): Determine the highest Cuisine Delivered by Restaurants in each City or ordered within each City\n",
    "\n",
    "4. Average Cost(Feature): Determine the highest occuring amount paid on food delivery. Also, the City with the highest cost spent on Food Delivery\n",
    "\n",
    "4. Ratings and Votes (Features): Determine the top 5 Locations with the highest Ratings and Votes."
   ]
  },
  {
   "cell_type": "markdown",
   "metadata": {
    "heading_collapsed": true
   },
   "source": [
    "### Delivery Time "
   ]
  },
  {
   "cell_type": "code",
   "execution_count": 5,
   "metadata": {
    "hidden": true
   },
   "outputs": [
    {
     "data": {
      "text/plain": [
       "count          11094\n",
       "unique             7\n",
       "top       30 minutes\n",
       "freq            7406\n",
       "Name: Delivery_Time, dtype: object"
      ]
     },
     "execution_count": 5,
     "metadata": {},
     "output_type": "execute_result"
    }
   ],
   "source": [
    "data.Delivery_Time.describe()"
   ]
  },
  {
   "cell_type": "code",
   "execution_count": 6,
   "metadata": {
    "hidden": true
   },
   "outputs": [],
   "source": [
    "# Convert ' minutes' in each column to empty string '' and also convert to integer\n",
    "data['Delivery_Time'] = data['Delivery_Time'].str.replace(' minutes','')\n",
    "data['Delivery_Time']=pd.to_numeric(data['Delivery_Time'])"
   ]
  },
  {
   "cell_type": "code",
   "execution_count": 7,
   "metadata": {
    "hidden": true
   },
   "outputs": [
    {
     "name": "stdout",
     "output_type": "stream",
     "text": [
      "Delivery Time Value Counts:\n",
      " 30     7406\n",
      "45     2665\n",
      "65      923\n",
      "120      62\n",
      "20       20\n",
      "80       14\n",
      "10        4\n",
      "Name: Delivery_Time, dtype: int64\n"
     ]
    },
    {
     "data": {
      "text/plain": [
       "[Text(0.5, 0, 'Delivery Time (Minutes)')]"
      ]
     },
     "execution_count": 7,
     "metadata": {},
     "output_type": "execute_result"
    },
    {
     "data": {
      "image/png": "[encoded data removed]",
      "text/plain": [
       "<Figure size 842.4x595.44 with 1 Axes>"
      ]
     },
     "metadata": {},
     "output_type": "display_data"
    }
   ],
   "source": [
    "# preview  unique value counts of the Delivery Time periods\n",
    "print('Delivery Time Value Counts:\\n', data['Delivery_Time'].value_counts())\n",
    "\n",
    "# set fig size\n",
    "sns.set(rc={'figure.figsize': (11.7, 8.27)})\n",
    "\n",
    "# preview\n",
    "d = sns.violinplot('Delivery_Time', data=data, palette='gist_rainbow_r')\n",
    "plt.pyplot.suptitle('City Food Delivery Frequency',  fontsize=15)\n",
    "d.set( xlabel='Delivery Time (Minutes)')"
   ]
  },
  {
   "cell_type": "markdown",
   "metadata": {
    "heading_collapsed": true
   },
   "source": [
    "### Location"
   ]
  },
  {
   "cell_type": "code",
   "execution_count": 8,
   "metadata": {
    "hidden": true,
    "scrolled": false
   },
   "outputs": [
    {
     "name": "stdout",
     "output_type": "stream",
     "text": [
      "Noida          2086\n",
      "Pune           1636\n",
      "Mumbai         1229\n",
      "Delhi          1153\n",
      "Bangalore       947\n",
      "Kolkata         546\n",
      "Gurgoan         493\n",
      "Timarpur        472\n",
      "Whitefield      457\n",
      "IndiaGate       411\n",
      "Marathalli      366\n",
      "Majestic        334\n",
      "Maharashtra     307\n",
      "Hyderabad       294\n",
      "Gurgaon         260\n",
      "Begumpet         81\n",
      "Electronic       22\n",
      "Name: City, dtype: int64\n"
     ]
    },
    {
     "name": "stderr",
     "output_type": "stream",
     "text": [
      "C:\\Users\\Praise\\anaconda3\\lib\\site-packages\\ipykernel_launcher.py:5: SettingWithCopyWarning: \n",
      "A value is trying to be set on a copy of a slice from a DataFrame\n",
      "\n",
      "See the caveats in the documentation: https://pandas.pydata.org/pandas-docs/stable/user_guide/indexing.html#returning-a-view-versus-a-copy\n",
      "  \"\"\"\n",
      "C:\\Users\\Praise\\anaconda3\\lib\\site-packages\\ipykernel_launcher.py:6: SettingWithCopyWarning: \n",
      "A value is trying to be set on a copy of a slice from a DataFrame\n",
      "\n",
      "See the caveats in the documentation: https://pandas.pydata.org/pandas-docs/stable/user_guide/indexing.html#returning-a-view-versus-a-copy\n",
      "  \n",
      "C:\\Users\\Praise\\anaconda3\\lib\\site-packages\\ipykernel_launcher.py:7: SettingWithCopyWarning: \n",
      "A value is trying to be set on a copy of a slice from a DataFrame\n",
      "\n",
      "See the caveats in the documentation: https://pandas.pydata.org/pandas-docs/stable/user_guide/indexing.html#returning-a-view-versus-a-copy\n",
      "  import sys\n",
      "C:\\Users\\Praise\\anaconda3\\lib\\site-packages\\ipykernel_launcher.py:8: SettingWithCopyWarning: \n",
      "A value is trying to be set on a copy of a slice from a DataFrame\n",
      "\n",
      "See the caveats in the documentation: https://pandas.pydata.org/pandas-docs/stable/user_guide/indexing.html#returning-a-view-versus-a-copy\n",
      "  \n",
      "C:\\Users\\Praise\\anaconda3\\lib\\site-packages\\ipykernel_launcher.py:9: SettingWithCopyWarning: \n",
      "A value is trying to be set on a copy of a slice from a DataFrame\n",
      "\n",
      "See the caveats in the documentation: https://pandas.pydata.org/pandas-docs/stable/user_guide/indexing.html#returning-a-view-versus-a-copy\n",
      "  if __name__ == '__main__':\n"
     ]
    },
    {
     "data": {
      "text/plain": [
       "[Text(0, 0, 'Noida'),\n",
       " Text(1, 0, 'Pune'),\n",
       " Text(2, 0, 'Mumbai'),\n",
       " Text(3, 0, 'Delhi'),\n",
       " Text(4, 0, 'Bangalore')]"
      ]
     },
     "execution_count": 8,
     "metadata": {},
     "output_type": "execute_result"
    },
    {
     "data": {
      "image/png": "[encoded data removed]",
      "text/plain": [
       "<Figure size 842.4x595.44 with 1 Axes>"
      ]
     },
     "metadata": {},
     "output_type": "display_data"
    }
   ],
   "source": [
    "# Assing only second part of address containing City names to City and replace spaces to empty string\n",
    "data['City'] = data.Location.str.rpartition(',')[2].str.replace(' ', '')\n",
    "\n",
    "# Use only a single City text name for texts with other texts value\n",
    "data['City'][data.City.str.contains('Pune')] = 'Pune'\n",
    "data['City'][data.City.str.contains('Delhi')] = 'Delhi'\n",
    "data['City'][data.City.str.contains('Mumbai')] = 'Mumbai'\n",
    "data['City'][data.City.str.contains('Majestic')] = 'Majestic'\n",
    "data['City'][data.City.str.contains('Electronic')] = 'Electronic'\n",
    "\n",
    "# preview\n",
    "print(data.City.value_counts())\n",
    "City_sort = data.sort_values=('City')\n",
    "c = sns.countplot(data=data, x='City', order=data.City.value_counts().head(5).index)\n",
    "plt.pyplot.suptitle('Top 5 Food Delivery Active Cities',  fontsize=15)\n",
    "c.set_xticklabels(c.get_xticklabels())"
   ]
  },
  {
   "cell_type": "markdown",
   "metadata": {
    "heading_collapsed": true
   },
   "source": [
    "### Cuisines"
   ]
  },
  {
   "cell_type": "code",
   "execution_count": 9,
   "metadata": {
    "hidden": true
   },
   "outputs": [],
   "source": [
    "# adjust Cuisine texts to be easily reitereatable\n",
    "data['Cuisines'] = data['Cuisines'].str.lower()\n",
    "data['Cuisines'] = data['Cuisines'].str.replace(' ','')"
   ]
  },
  {
   "cell_type": "code",
   "execution_count": 10,
   "metadata": {
    "hidden": true
   },
   "outputs": [],
   "source": [
    "# group Cuisines into categories\n",
    "fastfood = '|'.join(['fastfood','rolls','burger','wraps','streetfood','momos','sandwich','fingerfood','barfood','rawmeats','hotdogs','cafe','pizza'])\n",
    "data['Cuisines'] = data['Cuisines'].str.replace(fastfood,\"Fast Food\")\n",
    "\n",
    "desserts = '|'.join(['icecream','mithai','bakery','bubbletea','mishti','paan','frozenyogurt','desserts'])\n",
    "data['Cuisines'] = data['Cuisines'].str.replace(desserts,\"Desserts\")\n",
    "\n",
    "european = '|'.join(['healthyfood','salad','continental','european','italian','german','spanish','steak','mediterranean','brazilian','belgian','french','portuguese','african','greek'])\n",
    "data['Cuisines'] = data['Cuisines'].str.replace(european,\"Continental\")\n",
    "\n",
    "american = '|'.join(['mexican','bbq','roastchicken','charcoalchicken','tex-mex','southamerican','poké','american',])\n",
    "data['Cuisines'] = data['Cuisines'].str.replace(american,\"American\")\n",
    "\n",
    "MiddleEastern = '|'.join(['arabian', 'kebab', 'lebanese', 'afghan', 'iranian', 'middleeastern', 'turkish', 'israeli'])\n",
    "data['Cuisines'] = data['Cuisines'].str.replace(MiddleEastern,\"Middle Eastern\")\n",
    "\n",
    "Regional = '|'.join(['southIndian', 'southNorth Indian','hyderabadi', 'lucknowi','mughlai','biryani', 'bengali','kerala', 'bihari', 'Lucknowi', 'mangalorean', 'bangali', 'andhra', 'assamese', 'maharashtrian', 'chettinad', 'parsi', 'odia', 'tamil', 'northeastern', 'bohri', 'goan', 'gujarati', 'rajasthani', 'naga', 'awadhi', 'kashmiri', 'malwani'])\n",
    "data['Cuisines'] = data['Cuisines'].str.replace(Regional,\"South Indian\")\n",
    "\n",
    "SeaFood = '|'.join(['thai', 'konkan', 'srilankan', 'poke','seafood'])\n",
    "data['Cuisines'] = data['Cuisines'].str.replace(SeaFood,\"Sea Food\")\n",
    "\n",
    "Asian = '|'.join(['asian', 'indonesian', 'japanese', 'burmese', 'sushi', 'cantonese', 'tibetan', 'malaysian', 'vietnamese', 'korean', 'bangladeshi', 'nepalese'])\n",
    "data['Cuisines'] = data['Cuisines'].str.replace(Asian,\"Asian\")\n",
    "\n",
    "Beverages = '|'.join(['tea', 'juices', 'coffee','beverages'])\n",
    "data['Cuisines'] = data['Cuisines'].str.replace(Beverages,\"Beverages\")\n",
    "\n",
    "Biryani = '|'.join(['chinese'])\n",
    "data['Cuisines'] = data['Cuisines'].str.replace(Biryani,\"Chinese\")\n",
    "\n",
    "NorthIndian = '|'.join(['indian', 'modernindian', 'modernnorthindian', 'northindian', 'northnorthindian'])\n",
    "data['Cuisines'] = data['Cuisines'].str.replace(NorthIndian,\"North Indian\")\n",
    "\n",
    "HealthyFood = '|'.join(['salad'])\n",
    "data['Cuisines'] = data['Cuisines'].str.replace(HealthyFood,\"Healthy Food\")"
   ]
  },
  {
   "cell_type": "code",
   "execution_count": 11,
   "metadata": {
    "hidden": true,
    "scrolled": false
   },
   "outputs": [
    {
     "data": {
      "text/plain": [
       "Counter({'Fast Food': 6381,\n",
       "         'Continental': 1816,\n",
       "         'Desserts': 2733,\n",
       "         'South Indian': 2481,\n",
       "         'North Indian': 4820,\n",
       "         'Chinese': 3459,\n",
       "         'Beverages': 1697,\n",
       "         'southNorth Indian': 1196,\n",
       "         'Sea Food': 378,\n",
       "         'Asian': 429,\n",
       "         'American': 332,\n",
       "         'Middle Eastern': 367})"
      ]
     },
     "execution_count": 11,
     "metadata": {},
     "output_type": "execute_result"
    }
   ],
   "source": [
    "# display Cuisine count in each category\n",
    "\n",
    "Cuisines_list = data['Cuisines'].str.split(',')\n",
    "Cuisines_counter = Counter(([a for b in Cuisines_list.tolist() for a in b]))\n",
    "Cuisines_counter"
   ]
  },
  {
   "cell_type": "code",
   "execution_count": 12,
   "metadata": {
    "hidden": true
   },
   "outputs": [],
   "source": [
    "Cuisines_C = pd.DataFrame.from_dict(Cuisines_counter, orient='index', columns=['counts']).reset_index()\n",
    "Cuisines_C = Cuisines_C.sort_values('counts')"
   ]
  },
  {
   "cell_type": "code",
   "execution_count": 13,
   "metadata": {
    "hidden": true
   },
   "outputs": [
    {
     "data": {
      "text/plain": [
       "(array([ 0,  1,  2,  3,  4,  5,  6,  7,  8,  9, 10, 11]),\n",
       " [Text(0, 0, 'American'),\n",
       "  Text(1, 0, 'Middle Eastern'),\n",
       "  Text(2, 0, 'Sea Food'),\n",
       "  Text(3, 0, 'Asian'),\n",
       "  Text(4, 0, 'southNorth Indian'),\n",
       "  Text(5, 0, 'Beverages'),\n",
       "  Text(6, 0, 'Continental'),\n",
       "  Text(7, 0, 'South Indian'),\n",
       "  Text(8, 0, 'Desserts'),\n",
       "  Text(9, 0, 'Chinese'),\n",
       "  Text(10, 0, 'North Indian'),\n",
       "  Text(11, 0, 'Fast Food')])"
      ]
     },
     "execution_count": 13,
     "metadata": {},
     "output_type": "execute_result"
    },
    {
     "data": {
      "image/png": "[encoded data removed]",
      "text/plain": [
       "<Figure size 842.4x595.44 with 1 Axes>"
      ]
     },
     "metadata": {},
     "output_type": "display_data"
    }
   ],
   "source": [
    "# Preview Histogram the Cuisine categories\n",
    "sns.barplot(x='index', y='counts', data=Cuisines_C)\n",
    "plt.pyplot.suptitle('Total Restaurant Delivery for each Cuisine Category', fontsize=15)\n",
    "plt.pyplot.xticks(rotation=30)"
   ]
  },
  {
   "cell_type": "markdown",
   "metadata": {
    "heading_collapsed": true
   },
   "source": [
    "### Average Cost"
   ]
  },
  {
   "cell_type": "code",
   "execution_count": 14,
   "metadata": {
    "hidden": true
   },
   "outputs": [
    {
     "name": "stderr",
     "output_type": "stream",
     "text": [
      "C:\\Users\\Praise\\anaconda3\\lib\\site-packages\\ipykernel_launcher.py:5: SettingWithCopyWarning: \n",
      "A value is trying to be set on a copy of a slice from a DataFrame.\n",
      "Try using .loc[row_indexer,col_indexer] = value instead\n",
      "\n",
      "See the caveats in the documentation: https://pandas.pydata.org/pandas-docs/stable/user_guide/indexing.html#returning-a-view-versus-a-copy\n",
      "  \"\"\"\n",
      "C:\\Users\\Praise\\anaconda3\\lib\\site-packages\\ipykernel_launcher.py:6: SettingWithCopyWarning: \n",
      "A value is trying to be set on a copy of a slice from a DataFrame.\n",
      "Try using .loc[row_indexer,col_indexer] = value instead\n",
      "\n",
      "See the caveats in the documentation: https://pandas.pydata.org/pandas-docs/stable/user_guide/indexing.html#returning-a-view-versus-a-copy\n",
      "  \n",
      "C:\\Users\\Praise\\anaconda3\\lib\\site-packages\\ipykernel_launcher.py:7: SettingWithCopyWarning: \n",
      "A value is trying to be set on a copy of a slice from a DataFrame.\n",
      "Try using .loc[row_indexer,col_indexer] = value instead\n",
      "\n",
      "See the caveats in the documentation: https://pandas.pydata.org/pandas-docs/stable/user_guide/indexing.html#returning-a-view-versus-a-copy\n",
      "  import sys\n",
      "C:\\Users\\Praise\\anaconda3\\lib\\site-packages\\pandas\\core\\series.py:4523: SettingWithCopyWarning: \n",
      "A value is trying to be set on a copy of a slice from a DataFrame\n",
      "\n",
      "See the caveats in the documentation: https://pandas.pydata.org/pandas-docs/stable/user_guide/indexing.html#returning-a-view-versus-a-copy\n",
      "  downcast=downcast,\n",
      "C:\\Users\\Praise\\anaconda3\\lib\\site-packages\\ipykernel_launcher.py:12: SettingWithCopyWarning: \n",
      "A value is trying to be set on a copy of a slice from a DataFrame.\n",
      "Try using .loc[row_indexer,col_indexer] = value instead\n",
      "\n",
      "See the caveats in the documentation: https://pandas.pydata.org/pandas-docs/stable/user_guide/indexing.html#returning-a-view-versus-a-copy\n",
      "  if sys.path[0] == '':\n",
      "C:\\Users\\Praise\\anaconda3\\lib\\site-packages\\ipykernel_launcher.py:13: SettingWithCopyWarning: \n",
      "A value is trying to be set on a copy of a slice from a DataFrame.\n",
      "Try using .loc[row_indexer,col_indexer] = value instead\n",
      "\n",
      "See the caveats in the documentation: https://pandas.pydata.org/pandas-docs/stable/user_guide/indexing.html#returning-a-view-versus-a-copy\n",
      "  del sys.path[0]\n",
      "C:\\Users\\Praise\\anaconda3\\lib\\site-packages\\ipykernel_launcher.py:14: SettingWithCopyWarning: \n",
      "A value is trying to be set on a copy of a slice from a DataFrame.\n",
      "Try using .loc[row_indexer,col_indexer] = value instead\n",
      "\n",
      "See the caveats in the documentation: https://pandas.pydata.org/pandas-docs/stable/user_guide/indexing.html#returning-a-view-versus-a-copy\n",
      "  \n",
      "C:\\Users\\Praise\\anaconda3\\lib\\site-packages\\pandas\\core\\generic.py:5159: SettingWithCopyWarning: \n",
      "A value is trying to be set on a copy of a slice from a DataFrame.\n",
      "Try using .loc[row_indexer,col_indexer] = value instead\n",
      "\n",
      "See the caveats in the documentation: https://pandas.pydata.org/pandas-docs/stable/user_guide/indexing.html#returning-a-view-versus-a-copy\n",
      "  self[name] = value\n"
     ]
    }
   ],
   "source": [
    "# Create Location_df containing correct measurable values for the columns\n",
    "Location_df = data[['City', 'Average_Cost' ,'Minimum_Order' ,'Rating', 'Votes', 'Reviews']]\n",
    "\n",
    "# Average_Cost to numeric values\n",
    "Location_df['Average_Cost'] = Location_df['Average_Cost'].str.replace(\"[^0-9]\",\"\")\n",
    "Location_df['Average_Cost'] = Location_df['Average_Cost'].str.strip()\n",
    "Location_df['Average_Cost']=pd.to_numeric(Location_df['Average_Cost'])\n",
    "Location_df.Average_Cost.fillna(200, inplace=True)\n",
    "data['Average_Cost'] = data['Average_Cost'].str.replace(\"for\",\"₹200\") #filled with the max value for plotting\n",
    "\n",
    "# Minimum_Cost to numeric values\n",
    "Location_df['Minimum_Order'] = Location_df['Minimum_Order'].str.replace(\"[^0-9]\",\"\")\n",
    "Location_df['Minimum_Order'] = Location_df['Minimum_Order'].str.strip()\n",
    "Location_df['Minimum_Order']=pd.to_numeric(Location_df['Minimum_Order'])\n",
    "\n",
    "# Rating to Object values and non-reated movies to value of 0\n",
    "Location_df.Rating = Location_df.Rating.replace(\"NEW\",np.nan)\n",
    "Location_df.Rating = Location_df.Rating.replace(\"-\",np.nan)\n",
    "Location_df.Rating = Location_df.Rating.replace(\"Opening Soon\",np.nan)\n",
    "Location_df.Rating = Location_df.Rating.replace(\"Temporarily Closed\",np.nan)\n",
    "Location_df.Rating = Location_df.Rating.astype('float')\n",
    "Location_df.Rating.fillna(0, inplace=True)\n",
    "\n",
    "# Votes to Object values and non votes to value of 0\n",
    "Location_df.Votes = Location_df.Votes.replace(\"-\",np.nan)\n",
    "Location_df.Votes = Location_df.Votes.astype('float')\n",
    "Location_df.Votes.fillna(0, inplace=True)\n",
    "\n",
    "# Reviews to Object values and non Reviews to value of 0\n",
    "Location_df.Reviews = Location_df.Reviews.replace(\"-\",np.nan)\n",
    "Location_df.Reviews = Location_df.Reviews.astype('float')\n",
    "Location_df.Reviews.fillna(0, inplace=True)\n"
   ]
  },
  {
   "cell_type": "code",
   "execution_count": 15,
   "metadata": {
    "hidden": true,
    "scrolled": true
   },
   "outputs": [
    {
     "data": {
      "text/html": [
       "<div>\n",
       "<style scoped>\n",
       "    .dataframe tbody tr th:only-of-type {\n",
       "        vertical-align: middle;\n",
       "    }\n",
       "\n",
       "    .dataframe tbody tr th {\n",
       "        vertical-align: top;\n",
       "    }\n",
       "\n",
       "    .dataframe thead th {\n",
       "        text-align: right;\n",
       "    }\n",
       "</style>\n",
       "<table border=\"1\" class=\"dataframe\">\n",
       "  <thead>\n",
       "    <tr style=\"text-align: right;\">\n",
       "      <th></th>\n",
       "      <th>City</th>\n",
       "      <th>Average_Cost</th>\n",
       "      <th>Minimum_Order</th>\n",
       "      <th>Rating</th>\n",
       "      <th>Votes</th>\n",
       "      <th>Reviews</th>\n",
       "    </tr>\n",
       "  </thead>\n",
       "  <tbody>\n",
       "    <tr>\n",
       "      <th>0</th>\n",
       "      <td>Pune</td>\n",
       "      <td>200.0</td>\n",
       "      <td>50</td>\n",
       "      <td>3.5</td>\n",
       "      <td>12.0</td>\n",
       "      <td>4.0</td>\n",
       "    </tr>\n",
       "    <tr>\n",
       "      <th>1</th>\n",
       "      <td>Marathalli</td>\n",
       "      <td>100.0</td>\n",
       "      <td>50</td>\n",
       "      <td>3.5</td>\n",
       "      <td>11.0</td>\n",
       "      <td>4.0</td>\n",
       "    </tr>\n",
       "    <tr>\n",
       "      <th>2</th>\n",
       "      <td>Mumbai</td>\n",
       "      <td>150.0</td>\n",
       "      <td>50</td>\n",
       "      <td>3.6</td>\n",
       "      <td>99.0</td>\n",
       "      <td>30.0</td>\n",
       "    </tr>\n",
       "    <tr>\n",
       "      <th>3</th>\n",
       "      <td>Noida</td>\n",
       "      <td>250.0</td>\n",
       "      <td>99</td>\n",
       "      <td>3.7</td>\n",
       "      <td>176.0</td>\n",
       "      <td>95.0</td>\n",
       "    </tr>\n",
       "    <tr>\n",
       "      <th>4</th>\n",
       "      <td>Whitefield</td>\n",
       "      <td>200.0</td>\n",
       "      <td>99</td>\n",
       "      <td>3.2</td>\n",
       "      <td>521.0</td>\n",
       "      <td>235.0</td>\n",
       "    </tr>\n",
       "  </tbody>\n",
       "</table>\n",
       "</div>"
      ],
      "text/plain": [
       "         City  Average_Cost  Minimum_Order  Rating  Votes  Reviews\n",
       "0        Pune         200.0             50     3.5   12.0      4.0\n",
       "1  Marathalli         100.0             50     3.5   11.0      4.0\n",
       "2      Mumbai         150.0             50     3.6   99.0     30.0\n",
       "3       Noida         250.0             99     3.7  176.0     95.0\n",
       "4  Whitefield         200.0             99     3.2  521.0    235.0"
      ]
     },
     "execution_count": 15,
     "metadata": {},
     "output_type": "execute_result"
    }
   ],
   "source": [
    "Location_df.head()"
   ]
  },
  {
   "cell_type": "markdown",
   "metadata": {
    "hidden": true
   },
   "source": [
    "#### Average_Cost"
   ]
  },
  {
   "cell_type": "code",
   "execution_count": 16,
   "metadata": {
    "hidden": true
   },
   "outputs": [
    {
     "name": "stdout",
     "output_type": "stream",
     "text": [
      "Top 5 Average cost of Cuisines price paid at Restaurants \n",
      " ₹300     537\n",
      "₹250     881\n",
      "₹150    2462\n",
      "₹100    2557\n",
      "₹200    3242\n",
      "Name: Average_Cost, dtype: int64\n"
     ]
    },
    {
     "data": {
      "text/plain": [
       "[Text(0.5, 0, 'No of Occurences'), Text(0, 0.5, 'Amount Paid')]"
      ]
     },
     "execution_count": 16,
     "metadata": {},
     "output_type": "execute_result"
    },
    {
     "data": {
      "image/png": "[encoded data removed]",
      "text/plain": [
       "<Figure size 842.4x595.44 with 1 Axes>"
      ]
     },
     "metadata": {},
     "output_type": "display_data"
    }
   ],
   "source": [
    "# Preview Maximum Amount of Average cost spent\n",
    "print('Top 5 Average cost of Cuisines price paid at Restaurants \\n', data.Average_Cost.value_counts().sort_values().tail(5))\n",
    "ac = data.Average_Cost.value_counts().sort_values().tail(5).plot(kind = 'barh',color=(0.1, 0.9, 0.6))\n",
    "plt.pyplot.suptitle('Top 5 Most Occured Cost on Food Delivery', fontsize=15)\n",
    "ac.set(xlabel='No of Occurences', ylabel='Amount Paid')"
   ]
  },
  {
   "cell_type": "code",
   "execution_count": 17,
   "metadata": {
    "hidden": true
   },
   "outputs": [
    {
     "name": "stdout",
     "output_type": "stream",
     "text": [
      "         City  Average_Cost\n",
      "0   Bangalore      185350.0\n",
      "2       Delhi      210700.0\n",
      "12     Mumbai      263150.0\n",
      "14       Pune      354700.0\n",
      "13      Noida      427200.0\n"
     ]
    },
    {
     "data": {
      "text/plain": [
       "Text(0.5, 0.98, 'Total Average Cost of Cuisines in each Location')"
      ]
     },
     "execution_count": 17,
     "metadata": {},
     "output_type": "execute_result"
    },
    {
     "data": {
      "image/png": "[encoded data removed]",
      "text/plain": [
       "<Figure size 842.4x595.44 with 1 Axes>"
      ]
     },
     "metadata": {},
     "output_type": "display_data"
    }
   ],
   "source": [
    "# Determine top 5 cities with the highest average cost on food delivery\n",
    "Av_Cost = Location_df.groupby(['City']).sum()\n",
    "Av_Cost = Av_Cost.reset_index()\n",
    "Av_Cost = Av_Cost.sort_values('Average_Cost').tail(5)\n",
    "Av_Cost = Av_Cost[['City', 'Average_Cost']]\n",
    "# Plot Preview top 5 cities\n",
    "print(Av_Cost)\n",
    "sns.barplot(x='City', y='Average_Cost', data=Av_Cost)\n",
    "plt.pyplot.suptitle('Total Average Cost of Cuisines in each Location', fontsize=15)"
   ]
  },
  {
   "cell_type": "markdown",
   "metadata": {},
   "source": [
    "### Vote and Review "
   ]
  },
  {
   "cell_type": "code",
   "execution_count": 18,
   "metadata": {
    "scrolled": false
   },
   "outputs": [
    {
     "data": {
      "text/html": [
       "<div>\n",
       "<style scoped>\n",
       "    .dataframe tbody tr th:only-of-type {\n",
       "        vertical-align: middle;\n",
       "    }\n",
       "\n",
       "    .dataframe tbody tr th {\n",
       "        vertical-align: top;\n",
       "    }\n",
       "\n",
       "    .dataframe thead th {\n",
       "        text-align: right;\n",
       "    }\n",
       "</style>\n",
       "<table border=\"1\" class=\"dataframe\">\n",
       "  <thead>\n",
       "    <tr style=\"text-align: right;\">\n",
       "      <th></th>\n",
       "      <th>City</th>\n",
       "      <th>Average_Cost</th>\n",
       "      <th>Minimum_Order</th>\n",
       "      <th>Rating</th>\n",
       "      <th>Votes</th>\n",
       "      <th>Reviews</th>\n",
       "    </tr>\n",
       "  </thead>\n",
       "  <tbody>\n",
       "    <tr>\n",
       "      <th>0</th>\n",
       "      <td>Pune</td>\n",
       "      <td>200.0</td>\n",
       "      <td>50</td>\n",
       "      <td>3.5</td>\n",
       "      <td>12.0</td>\n",
       "      <td>4.0</td>\n",
       "    </tr>\n",
       "    <tr>\n",
       "      <th>1</th>\n",
       "      <td>Marathalli</td>\n",
       "      <td>100.0</td>\n",
       "      <td>50</td>\n",
       "      <td>3.5</td>\n",
       "      <td>11.0</td>\n",
       "      <td>4.0</td>\n",
       "    </tr>\n",
       "    <tr>\n",
       "      <th>2</th>\n",
       "      <td>Mumbai</td>\n",
       "      <td>150.0</td>\n",
       "      <td>50</td>\n",
       "      <td>3.6</td>\n",
       "      <td>99.0</td>\n",
       "      <td>30.0</td>\n",
       "    </tr>\n",
       "    <tr>\n",
       "      <th>3</th>\n",
       "      <td>Noida</td>\n",
       "      <td>250.0</td>\n",
       "      <td>99</td>\n",
       "      <td>3.7</td>\n",
       "      <td>176.0</td>\n",
       "      <td>95.0</td>\n",
       "    </tr>\n",
       "    <tr>\n",
       "      <th>4</th>\n",
       "      <td>Whitefield</td>\n",
       "      <td>200.0</td>\n",
       "      <td>99</td>\n",
       "      <td>3.2</td>\n",
       "      <td>521.0</td>\n",
       "      <td>235.0</td>\n",
       "    </tr>\n",
       "  </tbody>\n",
       "</table>\n",
       "</div>"
      ],
      "text/plain": [
       "         City  Average_Cost  Minimum_Order  Rating  Votes  Reviews\n",
       "0        Pune         200.0             50     3.5   12.0      4.0\n",
       "1  Marathalli         100.0             50     3.5   11.0      4.0\n",
       "2      Mumbai         150.0             50     3.6   99.0     30.0\n",
       "3       Noida         250.0             99     3.7  176.0     95.0\n",
       "4  Whitefield         200.0             99     3.2  521.0    235.0"
      ]
     },
     "execution_count": 18,
     "metadata": {},
     "output_type": "execute_result"
    }
   ],
   "source": [
    "# Preview Location_df\n",
    "Location_df.head()"
   ]
  },
  {
   "cell_type": "markdown",
   "metadata": {},
   "source": [
    "#### Rating"
   ]
  },
  {
   "cell_type": "code",
   "execution_count": 19,
   "metadata": {},
   "outputs": [
    {
     "data": {
      "text/html": [
       "<div>\n",
       "<style scoped>\n",
       "    .dataframe tbody tr th:only-of-type {\n",
       "        vertical-align: middle;\n",
       "    }\n",
       "\n",
       "    .dataframe tbody tr th {\n",
       "        vertical-align: top;\n",
       "    }\n",
       "\n",
       "    .dataframe thead th {\n",
       "        text-align: right;\n",
       "    }\n",
       "</style>\n",
       "<table border=\"1\" class=\"dataframe\">\n",
       "  <thead>\n",
       "    <tr style=\"text-align: right;\">\n",
       "      <th></th>\n",
       "      <th>index</th>\n",
       "      <th>City</th>\n",
       "      <th>Average_Cost</th>\n",
       "      <th>Minimum_Order</th>\n",
       "      <th>Rating</th>\n",
       "      <th>Votes</th>\n",
       "      <th>Reviews</th>\n",
       "    </tr>\n",
       "  </thead>\n",
       "  <tbody>\n",
       "    <tr>\n",
       "      <th>0</th>\n",
       "      <td>11</td>\n",
       "      <td>Maharashtra</td>\n",
       "      <td>800.0</td>\n",
       "      <td>50</td>\n",
       "      <td>4.2</td>\n",
       "      <td>1693.0</td>\n",
       "      <td>1239.0</td>\n",
       "    </tr>\n",
       "    <tr>\n",
       "      <th>1</th>\n",
       "      <td>35</td>\n",
       "      <td>Noida</td>\n",
       "      <td>600.0</td>\n",
       "      <td>50</td>\n",
       "      <td>4.7</td>\n",
       "      <td>914.0</td>\n",
       "      <td>499.0</td>\n",
       "    </tr>\n",
       "    <tr>\n",
       "      <th>2</th>\n",
       "      <td>41</td>\n",
       "      <td>Mumbai</td>\n",
       "      <td>150.0</td>\n",
       "      <td>50</td>\n",
       "      <td>4.1</td>\n",
       "      <td>806.0</td>\n",
       "      <td>513.0</td>\n",
       "    </tr>\n",
       "    <tr>\n",
       "      <th>3</th>\n",
       "      <td>62</td>\n",
       "      <td>Maharashtra</td>\n",
       "      <td>600.0</td>\n",
       "      <td>50</td>\n",
       "      <td>4.6</td>\n",
       "      <td>391.0</td>\n",
       "      <td>174.0</td>\n",
       "    </tr>\n",
       "    <tr>\n",
       "      <th>4</th>\n",
       "      <td>70</td>\n",
       "      <td>Whitefield</td>\n",
       "      <td>300.0</td>\n",
       "      <td>50</td>\n",
       "      <td>4.1</td>\n",
       "      <td>119.0</td>\n",
       "      <td>59.0</td>\n",
       "    </tr>\n",
       "  </tbody>\n",
       "</table>\n",
       "</div>"
      ],
      "text/plain": [
       "   index         City  Average_Cost  Minimum_Order  Rating   Votes  Reviews\n",
       "0     11  Maharashtra         800.0             50     4.2  1693.0   1239.0\n",
       "1     35        Noida         600.0             50     4.7   914.0    499.0\n",
       "2     41       Mumbai         150.0             50     4.1   806.0    513.0\n",
       "3     62  Maharashtra         600.0             50     4.6   391.0    174.0\n",
       "4     70   Whitefield         300.0             50     4.1   119.0     59.0"
      ]
     },
     "execution_count": 19,
     "metadata": {},
     "output_type": "execute_result"
    }
   ],
   "source": [
    "# Select Location with Restaurants Delivery Rating higher than 4.0\n",
    "Rank_df = Location_df.loc[Location_df['Rating'] > 4].reset_index()\n",
    "Rank_df.head()"
   ]
  },
  {
   "cell_type": "code",
   "execution_count": 20,
   "metadata": {
    "scrolled": false
   },
   "outputs": [
    {
     "name": "stdout",
     "output_type": "stream",
     "text": [
      "         City  counts\n",
      "2       Delhi      93\n",
      "12     Mumbai      99\n",
      "0   Bangalore     155\n",
      "13      Noida     226\n",
      "14       Pune     228\n"
     ]
    },
    {
     "data": {
      "text/plain": [
       "[Text(0, 0.5, 'Ratings Count')]"
      ]
     },
     "execution_count": 20,
     "metadata": {},
     "output_type": "execute_result"
    },
    {
     "data": {
      "image/png": "[encoded data removed]",
      "text/plain": [
       "<Figure size 842.4x595.44 with 1 Axes>"
      ]
     },
     "metadata": {},
     "output_type": "display_data"
    }
   ],
   "source": [
    "# Create Rating dataframe along with total ratings in each city\n",
    "Rank = Rank_df.groupby(['Rating','City',]).size().reset_index()\n",
    "Rank.sort_values(0)\n",
    "Rank = Rank.groupby(['City']).sum().reset_index()\n",
    "Rank = Rank.rename(columns = {0: 'counts'}, inplace=False)\n",
    "Rat = Rank[['City','counts']].sort_values('counts').tail(5)\n",
    "print(Rat)\n",
    "\n",
    "# Plot Preview Rating\n",
    "r = sns.barplot(x='City', y='counts', data=Rat)\n",
    "plt.pyplot.suptitle('Top 5 Cities with the Highest number of Delivery Ratings above 4.0', fontsize=15)\n",
    "r.set(ylabel='Ratings Count')"
   ]
  },
  {
   "cell_type": "markdown",
   "metadata": {},
   "source": [
    "#### Votes"
   ]
  },
  {
   "cell_type": "code",
   "execution_count": 21,
   "metadata": {
    "scrolled": false
   },
   "outputs": [
    {
     "name": "stdout",
     "output_type": "stream",
     "text": [
      "Top 5 Restaurants Votes per City \n",
      "             City   Votes\n",
      "1391   IndiaGate  7062.0\n",
      "1891    Majestic  7135.0\n",
      "337    Bangalore  7661.0\n",
      "2045  Marathalli  9054.0\n",
      "3585  Whitefield  9054.0\n"
     ]
    },
    {
     "data": {
      "text/plain": [
       "[Text(0, 0.5, 'Votes Count')]"
      ]
     },
     "execution_count": 21,
     "metadata": {},
     "output_type": "execute_result"
    },
    {
     "data": {
      "image/png": "[encoded data removed]",
      "text/plain": [
       "<Figure size 842.4x595.44 with 1 Axes>"
      ]
     },
     "metadata": {},
     "output_type": "display_data"
    }
   ],
   "source": [
    "# Create Vote_Rank with the total votes per city\n",
    "Vote_Rank = Location_df.groupby(['City', 'Votes']).size().reset_index()\n",
    "Vote_Rank.groupby(['City']).sum().reset_index()\n",
    "\n",
    "Vat = Vote_Rank[['City','Votes']].sort_values('Votes').tail(5)\n",
    "print('Top 5 Restaurants Votes per City \\n',Vat)\n",
    "\n",
    "# Plot Preview Votes per City\n",
    "v = sns.barplot(x='City', y='Votes', data=Vat)\n",
    "plt.pyplot.suptitle('City Location with the highest number of Votes Count', fontsize=15)\n",
    "v.set(ylabel='Votes Count')"
   ]
  }
 ],
 "metadata": {
  "kernelspec": {
   "display_name": "Python 3",
   "language": "python",
   "name": "python3"
  },
  "language_info": {
   "codemirror_mode": {
    "name": "ipython",
    "version": 3
   },
   "file_extension": ".py",
   "mimetype": "text/x-python",
   "name": "python",
   "nbconvert_exporter": "python",
   "pygments_lexer": "ipython3",
   "version": "3.7.6"
  },
  "toc": {
   "base_numbering": 1,
   "nav_menu": {},
   "number_sections": true,
   "sideBar": true,
   "skip_h1_title": false,
   "title_cell": "Table of Contents",
   "title_sidebar": "Contents",
   "toc_cell": false,
   "toc_position": {},
   "toc_section_display": true,
   "toc_window_display": false
  }
 },
 "nbformat": 4,
 "nbformat_minor": 4
}
